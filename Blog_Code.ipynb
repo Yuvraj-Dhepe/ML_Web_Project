{
 "cells": [
  {
   "cell_type": "markdown",
   "id": "2e40b221-dadd-4143-b6af-f77a2108eccf",
   "metadata": {
    "tags": []
   },
   "source": [
    "---\n",
    "title: \"End to End Machine Learning Project on Student Performance Dataset\"\n",
    "description: \"An End to End ML project\"\n",
    "format:\n",
    "    html:\n",
    "        code-fold: true\n",
    "render-on-save: true\n",
    "execute:\n",
    "    eval: false\n",
    "    echo: true\n",
    "jupyter: python3\n",
    "output:\n",
    "  quarto::html_document:\n",
    "    self_contained: false\n",
    "    keep_md: false\n",
    "\n",
    "categories:\n",
    "    - End To End Project\n",
    "    - Regression Project\n",
    "image: ./images/StudentPerformance.jpg\n",
    "---"
   ]
  },
  {
   "cell_type": "markdown",
   "id": "0ebbe1e8-3ba8-451a-8611-5e21347aa221",
   "metadata": {
    "tags": []
   },
   "source": [
    "# End to End ML Project"
   ]
  },
  {
   "cell_type": "markdown",
   "id": "8247f0e4",
   "metadata": {},
   "source": [
    "#### Before I begin, I want to thank [Krish Naik Sir](https://www.linkedin.com/in/naikkrish/), learn from him on [youtube](https://www.youtube.com/channel/UCNU_lfiiWBdtULKOw6X0Dig), for creating a series around End to End Machine Learning Projects. I have learnt a lot from his videos and I am trying to implement the same in this notebook. I have also referred to his notebook for this project. I have tried to add more details and explanations wherever I felt necessary."
   ]
  },
  {
   "cell_type": "markdown",
   "id": "1cd52503-c3c4-4d1a-b5c4-71b74a21f38c",
   "metadata": {
    "tags": []
   },
   "source": [
    "## A brief intro of this project work\n",
    "- These days it's getting more common for a person in data team, to wear multiple hats in terms of bringing insights from the sea of data. To gain experience on what it means to multiple hats, I created this end to to end project on a simple data set of [Students Performance Dataset](https://www.kaggle.com/spscientist/students-performance-in-exams) from Kaggle.\n",
    "- The goal of this project is not to derive any magical insights from data, rather, to do a comprehensive work on building an end to end project which includes but is not limited to:\n",
    "    - Creating [modular folder structure](#t1.1-folder-structure-creation)\n",
    "    - Deciding on the [dataset](#action-a1-a2-project-idea-data-collection-and-preprocessing)\n",
    "    - Setup of the [environment](#task-t2)\n",
    "    - Design and [Develop Components and Pipelines](#action-a3), where components interact with data in backend, whereas the pipelines interact with the user and components to get predictions from a trained ML model and finally provide result to the user.\n",
    "- Follow the actions mentioned below to make your own copy of this end to end project\n",
    "- You Can Try the [WebApp](#gradio-webapp) created for this project before you get your hands dirty"
   ]
  },
  {
   "cell_type": "markdown",
   "id": "92cb802e-51f2-445e-960f-0a3e40fd8ac6",
   "metadata": {},
   "source": [
    "- Notebook checkpoints\n",
    "    - STAR ANALYSIS\n",
    "    - Explained every point of the star method, step by step in detail.\n",
    "        - Ex. Action will be broken down to A1, A2 to follow up the notebook.\n",
    "        - We use acronyms like T1 representing Task 1, A1.1 representing subaction 1 of Action 1.\n",
    "    "
   ]
  },
  {
   "cell_type": "markdown",
   "id": "675034d4-a71a-4dcc-9952-0c24f943a7c8",
   "metadata": {
    "tags": []
   },
   "source": [
    "## STAR ANALYSIS"
   ]
  },
  {
   "cell_type": "markdown",
   "id": "2c4ec304-5de7-4068-84cb-7e3641863ed0",
   "metadata": {},
   "source": [
    "- Situation: To gain experience in end-to-end machine learning project development and deployment\n",
    "- Task: Create a machine learning project from scratch, following the entire pipeline from data collection to model deployment\n",
    "- Action: Develop a project idea, collect and preprocess the data, perform EDA on data, decide on design and training of the machine learning model, evaluate the model's performance, and deploy the model into a production - environment\n",
    "- Result: Gain hands-on experience in end-to-end machine learning project development and deployment, with a fully functional machine learning system that can be used for real-world applications"
   ]
  },
  {
   "cell_type": "markdown",
   "id": "847de1db-3434-4fcf-b59b-130118bb5bc1",
   "metadata": {},
   "source": [
    "### Situation "
   ]
  },
  {
   "cell_type": "markdown",
   "id": "912b8f23-be18-4041-9cd9-7d24ba2e815d",
   "metadata": {},
   "source": [
    "- S1. Need of gaining exposure in real-world ML project development and deployment\n",
    "- S2. A way to improve my Data Science profile, with such projects\n",
    "- S3. Building skillset to be of use in the real-world, and not be limited to books\n",
    "\n",
    "With the situation being clear let's jump to a bit about task that was required to be done for this situation"
   ]
  },
  {
   "cell_type": "markdown",
   "id": "c7393936-a8d1-4832-8106-406867e8e081",
   "metadata": {
    "tags": []
   },
   "source": [
    "### Tasks"
   ]
  },
  {
   "cell_type": "markdown",
   "id": "2e83bf1b-4957-42a4-b3cd-3ded44a5ae27",
   "metadata": {},
   "source": [
    "- T1. Creating a folder structure, for a real-world entity project.\n",
    "    - Uses: Introduction of Modularity to the project, rather than a single jupyter notebook file doing all the job.\n",
    "- T2. Creating an environment and setup file to run this ML pipeline from scratch.\n",
    "- A. Developing an End to End ML pipeline and then performing web deployment for using the ML model.\n",
    "\n",
    "With the basic overview of task now, let's look onto every task in details"
   ]
  },
  {
   "cell_type": "markdown",
   "id": "eb204094-bf31-485e-88fe-37d873b8f7af",
   "metadata": {
    "tags": []
   },
   "source": [
    "#### Task T1: Creation of Project Structure"
   ]
  },
  {
   "cell_type": "markdown",
   "id": "b003fd11-9178-4296-a9f9-7daaee64a5d9",
   "metadata": {
    "tags": []
   },
   "source": [
    "- Creating a folder structure for our real-world project.\n",
    "This is an essential part for any real-world code project, as it introduces modularity to our code. This modularity helps us to deal with complexity of huge projects in simple way, where a team can work together on different parts of the project, re-use each others work and combine it all at the end."
   ]
  },
  {
   "cell_type": "markdown",
   "id": "8e6c4778-0264-40e0-a485-78a62f7ec5c2",
   "metadata": {
    "tags": []
   },
   "source": [
    "##### T1.1: Folder Structure Creation"
   ]
  },
  {
   "cell_type": "markdown",
   "id": "1c206440-c81b-49ce-ad87-5ca6c0a4c5c5",
   "metadata": {},
   "source": [
    "- First setup a github repo (ML_Web_Project is my repo), keeping all the options to default.\n",
    "- Locally setup a folder (END_To_END_ML_PROJECT is my base local folder setup on WSL, but the one can use windows or mac as well)\n",
    "    - Open this directory in vscode\n",
    "    - Open a terminal\n",
    "- Secondly let's create a conda environment named venv into this local folder, so to have packages locally to run the project.\n",
    "    ``` bash\n",
    "    conda create -p venv python==3.8 -y\n",
    "    ```\n",
    "    - Activate this environment from the base folder\n",
    "    ``` bash\n",
    "    conda activate venv/ # don't forget '/' cause it tells that this environment is in a folder named venv\n",
    "    ```\n",
    "- Link the local folder to the github repo\n",
    "    - First do git init in the local folder\n",
    "    - Follow all the steps mentioned in the github repo you created to do the syncing of local folder to the repo.\n",
    "    - After the update of git back in 2021, one needs to setup ssh-keys to use the github repo or use tokens, I prefer to use ssh-keys, follow the steps [here](https://docs.github.com/en/authentication/connecting-to-github-with-ssh/generating-a-new-ssh-key-and-adding-it-to-the-ssh-agent).\n",
    "    - Create a default .gitignore for python in github repo online.\n",
    "    - Finally do a git pull, to sync the changes locally as well.\n",
    "    - Later on whenever there are enough changes to the local code, follow the steps of git add, commit and push with a useful commit message."
   ]
  },
  {
   "cell_type": "markdown",
   "id": "3505446b-0e87-403f-86b3-8c46225435e5",
   "metadata": {},
   "source": [
    "- By now local repo should have a .gitignore, README.md, venv/ in their local repo, after this create the following folder structure locally.\n",
    "\n",
    "``` bash\n",
    "- END_TO_END_ML_PROJECT\n",
    "    - setup.py # The setup script is the center of all activity in building, distributing, and installing modules that are necessary to run the ML pipeline. # Consider it as the core of the ML Pipeline. This setup.py will help to use our ML pipeline as a package itself and can even be deployed to Pypi.\n",
    "    - requirements.txt # All packages that need to be installed before running the project. # This is the part that gives energy to the core.\n",
    "    - assets\n",
    "        - data # The folder which consist of datasets used in the project.\n",
    "            - StudentsPerformance.csv\n",
    "        - files\n",
    "            - notebook # jupyter notebooks, consisting of all codes which helps to find patterns in data and give a big picture code, later to be broken down into src folders.\n",
    "                - EDA_notebook.ipynb \n",
    "                - Model_train.ipynb\n",
    "        - images # to store plot images        \n",
    "    - src # The backbone containing all the source codes for creation of ML pipeline package.\n",
    "        - __init__.py\n",
    "        - exception.py # Helps in producing custom exceptions.\n",
    "        - logger.py # Contains the code that will help in creation of logs, and trace errors if caused any during the realtime.\n",
    "        - utils.py # Contains all the utilities that can be reused across the whole project.\n",
    "        - components # The major components of the project, which deal with data cleaning, transformation, model training etc.\n",
    "            - __init__.py\n",
    "            - data_ingestion.py\n",
    "            - data_transformation.py\n",
    "            - model_trainer.py\n",
    "        - pipeline # The complete pipelines built via use of components for further deployment of the model.\n",
    "            - __init__.py\n",
    "            - predict_pipeline.py\n",
    "            - train_pipeline.py\n",
    "```\n",
    "    \n"
   ]
  },
  {
   "cell_type": "markdown",
   "id": "95375c99-7298-4f3f-b5b3-90de6cdb96c8",
   "metadata": {
    "tags": []
   },
   "source": [
    "#### Task T2: Environment creation and setup"
   ]
  },
  {
   "cell_type": "markdown",
   "id": "d42b929d-fea3-4c67-a66b-40b27d17bdc1",
   "metadata": {},
   "source": [
    "- Creating an environment and setup file which later can be used to condense our ML pipeline in form of package.\n",
    "In this part we build the foundation for our ML pipeline, by creating the code for setup.py file."
   ]
  },
  {
   "cell_type": "markdown",
   "id": "6ab90ba8-9bb6-473d-b582-b25fb838e0c7",
   "metadata": {
    "tags": []
   },
   "source": [
    "##### Task T2.1: Setup File"
   ]
  },
  {
   "cell_type": "code",
   "execution_count": null,
   "id": "c1fe9985-4ef3-41da-9b98-e8a39a80605c",
   "metadata": {
    "tags": []
   },
   "outputs": [],
   "source": [
    "from setuptools import find_packages,setup\n",
    "from typing import List\n",
    "\n",
    "def get_requirements(file_path:str)->List[str]:\n",
    "    '''\n",
    "    This function will return the list of requirements\n",
    "    '''\n",
    "    requirements = []\n",
    "    file = open(file_path,'r')\n",
    "    \n",
    "    for line in file:\n",
    "        if \"-e .\" not in line:\n",
    "            requirements.append(line.strip('\\n'))\n",
    "    file.close()\n",
    "    \n",
    "    #print(requirements)\n",
    "    return requirements\n",
    "    \n",
    "# With this setup we parse our requirements file to get the requirements installed for our project, one can make this static via use of package names in form of a list, instead of parsing a requirements file.\n",
    "setup(\n",
    "    name='mlproject',\n",
    "    version='0.0.1',\n",
    "    author='<Your Name>',\n",
    "    author_email='<Your Email>',\n",
    "    packages=find_packages(), # This will use the codes or modules that we write for our ML pipeline, to ensure that our every module can be used for building the package, we have a __init__.py in src, or any directory that can be reused.\n",
    "    install_requires=get_requirements('requirements.txt') \n",
    ")\n"
   ]
  },
  {
   "cell_type": "markdown",
   "id": "44067c4d-419d-46f2-8e6e-7052e3193473",
   "metadata": {
    "tags": []
   },
   "source": [
    "- contents of requirements.txt file\n",
    "``` bash\n",
    "pandas\n",
    "numpy\n",
    "seaborn\n",
    "matplotlib\n",
    "scikit-learn\n",
    "catboost\n",
    "xgboost\n",
    "dill\n",
    "tensorboard\n",
    "-e . # This triggers the setup .py file automatically, but this is not readed when setup.py is called as per our above code.\n",
    "```\n",
    "\n",
    "- Once these 2 files are setup, simply run:\n",
    "``` bash\n",
    "pip install -r requirements.txt\n",
    "```\n",
    "- This will install all the necessary packages in our virtual environment and create a new directory <base_folder_name>.egg-info which will help to create the ML pipeline package for us."
   ]
  },
  {
   "cell_type": "markdown",
   "id": "82d012e3-2540-4bf2-8abf-a0154ccbd114",
   "metadata": {
    "tags": []
   },
   "source": [
    "### Actions"
   ]
  },
  {
   "cell_type": "markdown",
   "id": "4249f633-ab46-48e5-bc50-9e572bf0c567",
   "metadata": {},
   "source": [
    "- A1. Project Idea: Using a student performance data to predict it's grades or scores, depending on the other features of the dataset.\n",
    "- A2. Data Collection and Preprocessing: We first do all EDA in a jupyter notebook to find patterns in the data and getting to know the type of preprocessing required to be done on the dataset.\n",
    "    - For simple application the data is simply imported in form of csv file, but all this can even be done by getting data from Data Warehouse as well.\n",
    "- A3. Design and Development of ML pipeline components: After EDA, we try to create simple modular codes in a jupyter notebook, which do the job of development, training and evaluation of ML model. Later these modular codes are more or less split into the folder structure that we created earlier.\n",
    "- A4. Deployment of model into a production environment: We use cloud tools like AWS or Streamlit or Flask n Django or any other web service to deploy the ML model online to be used on realtime data provided by user or fetched from a source."
   ]
  },
  {
   "cell_type": "markdown",
   "id": "9e54fc6d-e3c6-420f-8641-4fbc787ee7c6",
   "metadata": {
    "tags": []
   },
   "source": [
    "#### Action A1 & A2: Project Idea, Data collection and Preprocessing"
   ]
  },
  {
   "cell_type": "markdown",
   "id": "c0f05969-e3e0-4f81-954f-2aa74df18afa",
   "metadata": {
    "tags": []
   },
   "source": [
    "- Project Idea \n",
    "    - We will use a simple student performance dataset, to predict the child's maths scores via the rest of the features of the dataset.\n",
    "    - We will be using this dataset, because it's having a mixed of categorical and numerical features, we can have a good amount of EDA done on this simple data, and last but not the least train many regression algorithms on this simple data easily.\n",
    "- Data Collection & Preprocessing\n",
    "    - We will use jupyter notebooks, to majority of the EDA, and finding the patterns. \n",
    "        - [Link to EDA Ipynb File](https://drive.google.com/file/d/1fTR9FDHklJu9iIcg04tCZ7ofImfxu6SO/view?usp=share_link)\n",
    "    - Once the EDA is done, we will also have basic models run on the data, in another jupyter notebook, so that we have basic model pipeline code in place as well.\n",
    "        - [Link to Models Ipynb File](https://drive.google.com/file/d/1HxHrjj3Q9zV3r0N9NpqyzlW73cdxEaEO/view?usp=share_link)"
   ]
  },
  {
   "cell_type": "markdown",
   "id": "03681225",
   "metadata": {},
   "source": [
    "- Insights from the EDA n Model Training, I have mentioned in a brief on my github, you can view it [here](https://github.com/Yuvraj-Dhepe/ML_Web_Project#insights-from-eda-n-model-training), with the insights in place, let's begin with design and development of ML pipeline."
   ]
  },
  {
   "cell_type": "markdown",
   "id": "b1ea7cfc-144c-441f-b95d-0a1ca683dc24",
   "metadata": {
    "tags": []
   },
   "source": [
    "#### Action A3: Design and Development of ML pipeline components"
   ]
  },
  {
   "cell_type": "markdown",
   "id": "f2223226-7eb9-45bf-b1f4-f2866288d512",
   "metadata": {},
   "source": [
    "- Design and Development of ML pipeline components in form of modular codes\n",
    "- Steps\n",
    "    - Creation of utility codes, logging and exception handling module that will be used all over the components, pipelines.\n",
    "    - Creation of Components modules inside the package consisting of Data Ingestion, Data Transformation and Model Trainer Component.    \n",
    "    - Creation of train and predict pipelines modules that will be connected to the above components, and will be a pipeline connecting the frontend user and the backend model of Machine learning."
   ]
  },
  {
   "cell_type": "markdown",
   "id": "d772630f",
   "metadata": {},
   "source": [
    "##### Action A3.1: Creation of Utilities, Loggers n Exceptions"
   ]
  },
  {
   "cell_type": "markdown",
   "id": "9c676996-b8b0-4136-88ff-ac96188a85f3",
   "metadata": {
    "jp-MarkdownHeadingCollapsed": true,
    "tags": []
   },
   "source": [
    "##### Action A3.1.1: Creation of Utilities"
   ]
  },
  {
   "cell_type": "code",
   "execution_count": null,
   "id": "d57208b9-2480-4fbd-b7a1-911818f47eea",
   "metadata": {
    "tags": []
   },
   "outputs": [],
   "source": [
    "#Common functionalities for the whole project.\n",
    "import os\n",
    "import sys\n",
    "\n",
    "import dill\n",
    "import numpy as np\n",
    "import pandas as pd\n",
    "import matplotlib.pyplot as plt\n",
    "from sklearn.metrics import r2_score\n",
    "import seaborn as sns\n",
    "\n",
    "from src.exception import CustomException\n",
    "from sklearn.model_selection import GridSearchCV\n",
    "from sklearn.metrics import ConfusionMatrixDisplay\n",
    "from sklearn.metrics import confusion_matrix\n",
    "\n",
    "def save_object(file_path,obj):\n",
    "    try:\n",
    "        dir_path = os.path.dirname(file_path)\n",
    "        os.makedirs(dir_path,exist_ok=True)\n",
    "        \n",
    "        file_obj = open(file_path,\"wb\")\n",
    "        dill.dump(obj,file_obj)\n",
    "        \n",
    "    except Exception as e:\n",
    "        raise CustomException(e,sys)\n",
    "\n",
    "def evaluate_models(X_train, y_train, X_test,y_test,models, param):\n",
    "    try:\n",
    "        report = {}\n",
    "        \n",
    "        for i in range(len(list(models))):\n",
    "            model = list(models.values())[i]\n",
    "            para=param[list(models.keys())[i]]\n",
    "\n",
    "            gs = GridSearchCV(model,para,cv=3)\n",
    "            gs.fit(X_train,y_train)\n",
    "\n",
    "            model.set_params(**gs.best_params_)\n",
    "            model.fit(X_train,y_train)\n",
    "            \n",
    "            #model.fit(X_train,y_train)\n",
    "            \n",
    "            y_train_pred = model.predict(X_train)\n",
    "            y_test_pred = model.predict(X_test)\n",
    "            \n",
    "            train_model_score = r2_score(y_train,y_train_pred)\n",
    "            test_model_score = r2_score(y_test,y_test_pred)\n",
    "            \n",
    "            report[list(models.keys())[i]] = test_model_score\n",
    "        \n",
    "        return report\n",
    "    \n",
    "    except Exception as e:\n",
    "        raise CustomException(e,sys)\n",
    "            \n",
    "def load_object(file_path):\n",
    "    try:\n",
    "        file_obj = open(file_path,\"rb\")\n",
    "        return dill.load(file_obj)\n",
    "        file_obj.close()\n",
    "        \n",
    "    except Exception as e:\n",
    "        raise CustomException(e,sys)\n",
    "\n",
    "def create_plot(y_test, y_pred, type, model_name, xlabel = \"Actual Math Score\", ylabel=\"Predicted Math Score\", file_name = \"Actual vs Predicted\"):\n",
    "    \"\"\"\n",
    "    A function to create a plot and save it to a file.\n",
    "    \"\"\"\n",
    "    if type == \"scatter\":\n",
    "        title = f\"{model_name}'s Actual vs Predicted Values Scatterplot\"\n",
    "        plt.scatter(y_test, y_pred)\n",
    "        plt.title(title)\n",
    "        plt.xlabel(xlabel)\n",
    "        plt.ylabel(ylabel)\n",
    "        directory = \"./assets/images/\"\n",
    "        plt.savefig(f\"{directory}{file_name}\")\n",
    "        \n",
    "    elif type == \"reg\":\n",
    "        title = f\"{model_name}'s Actual vs Predicted Values Regplot\"\n",
    "        sns.regplot(x=y_test,y=y_pred,ci=None,color ='red');\n",
    "        plt.title(title)\n",
    "        plt.xlabel(xlabel)\n",
    "        plt.ylabel(ylabel)\n",
    "        directory = \"./assets/images/\"\n",
    "        plt.savefig(f\"{directory}{file_name}_regplot\")"
   ]
  },
  {
   "cell_type": "markdown",
   "id": "16ea9821-95f5-4a13-b768-b4832d68d381",
   "metadata": {
    "jp-MarkdownHeadingCollapsed": true,
    "tags": []
   },
   "source": [
    "##### Action A3.1.2: Creation of Logger"
   ]
  },
  {
   "cell_type": "code",
   "execution_count": null,
   "id": "97b13aff-46ce-4d99-9925-238880ce5cfa",
   "metadata": {},
   "outputs": [],
   "source": [
    "# Logger is for the purpose of logging all the events in the program from execution to termination.\n",
    "# For example, whenever there is an exception, we can log the exception info in a file via use of logger.\n",
    "\n",
    "# Read logger documentation at https://docs.python.org/3/library/logging.html\n",
    "# Logger is for the purpose of logging all the events in the program from execution to termination.\n",
    "# For example, whenever there is an exception, we can log the exception info in a file via use of logger.\n",
    "\n",
    "# Read logger documentation at https://docs.python.org/3/library/logging.html\n",
    "import logging\n",
    "import os\n",
    "from datetime import datetime\n",
    "\n",
    "LOG_FILE_NAME = f\"{datetime.now().strftime('%Y-%m-%d-%H-%M-%S')}.log\"\n",
    "logs_path = os.path.join(os.getcwd(), \"logs\",LOG_FILE_NAME) # This will create logs folder in the same working directory where this file is present\n",
    "os.makedirs(logs_path,exist_ok=True) # Keep appending the logs in the same directory even if there are multiple runs of the program\n",
    "\n",
    "LOG_FILE_PATH = os.path.join(logs_path,LOG_FILE_NAME)\n",
    "\n",
    "logging.basicConfig(filename=LOG_FILE_PATH,\n",
    "                    level=logging.INFO,\n",
    "                    format=\"[%(asctime)s] %(lineno)d %(name)s - %(levelname)s: %(message)s\",\n",
    "                    datefmt='%m/%d/%Y %I:%M:%S %p'\n",
    "                    ) #This is the change of basic configuration for the logger\n",
    "\n",
    "if __name__ == '__main__':\n",
    "    logging.info(\"This is a test log\")\n",
    "    logging.warning(\"This is a warning log\")\n",
    "    logging.error(\"This is an error log\")\n",
    "    logging.critical(\"This is a critical log\")"
   ]
  },
  {
   "cell_type": "markdown",
   "id": "14eba051-ed90-4cb3-bf33-7de171200a51",
   "metadata": {
    "jp-MarkdownHeadingCollapsed": true,
    "tags": []
   },
   "source": [
    "##### Action A3.1.3: Creation of Exception.py"
   ]
  },
  {
   "cell_type": "code",
   "execution_count": null,
   "id": "c8387e4b-535f-4666-9ad6-2e922a6cef25",
   "metadata": {
    "tags": []
   },
   "outputs": [],
   "source": [
    "# We use this custom exception handling in the project to handle all the errors that will come into the project, simply we can say that we are handling all the errors that will come into the project in a single place.\n",
    "\n",
    "import sys\n",
    "\n",
    "# Sys module in python provides various functions and variables that are used to manipulate different parts of the python runtime environment. It allows operating on the python interpreter as it provides access to some variables used or maintained by the interpreter and to functions that interact strongly with the interpreter.\n",
    "# Read more about sys module here: https://docs.python.org/3/library/sys.html\n",
    "from src.logger import logging\n",
    "\n",
    "\n",
    "def error_message_detail(error,error_detail:sys):\n",
    "    _,_,exec_tb = error_detail.exc_info()\n",
    "    file_name = exec_tb.tb_frame.f_code.co_filename\n",
    "    error_message = f\"Error occured in python script name {file_name} on line number {exec_tb.tb_lineno} and error is {str(error)}\"\n",
    "    \n",
    "    return error_message\n",
    "    \n",
    "class CustomException(Exception):\n",
    "    def __init__(self,error_message,error_detail:sys):\n",
    "        super().__init__(error_message)\n",
    "        self.error_message = error_message_detail(error_message,error_detail= error_detail)\n",
    "        #self.error_detail = error_detail        \n",
    "        \n",
    "    def __str__(self):\n",
    "        return f\"{self.error_message}\"\n",
    "\n",
    "# Read more about custom exception handling here: https://www.programiz.com/python-programming/user-defined-exception\n",
    "\n",
    "if __name__ == '__main__':\n",
    "    try:\n",
    "        a = 10\n",
    "        b = 0\n",
    "        c = a/b\n",
    "        print(c)\n",
    "    except Exception as e:\n",
    "        logging.error(e)\n",
    "        raise CustomException(e,error_detail=sys)"
   ]
  },
  {
   "cell_type": "markdown",
   "id": "204991de-53d9-40bc-90c0-2d30fedb3f89",
   "metadata": {},
   "source": [
    "##### Action A3.2: Creation of Components"
   ]
  },
  {
   "cell_type": "markdown",
   "id": "50bde89f-6ffa-46a5-b43e-edee955df93e",
   "metadata": {
    "jp-MarkdownHeadingCollapsed": true,
    "tags": []
   },
   "source": [
    "##### A3.2.1 Data Ingestion Component\n",
    "- Data being a central component of any project, in this component, we write classes such as DataIngestionConfig and DataIngestion.\n",
    "    - DataIngestionConfig consists of public path variables to train, test and raw data. \n",
    "    - DataIngestion helps to create an object which invokes an object of DataIngestionConfig during initialization and retrieves public path variables.\n",
    "    - By use of those paths, we read data, split them up and save them to the directory by use of initiate_data_ingestion method."
   ]
  },
  {
   "cell_type": "markdown",
   "id": "7a44c5e9-e6be-4894-9b62-f55554396a2c",
   "metadata": {},
   "source": [
    "- Data ingestion is a crucial step in any project that involves handling data. This process involves extracting data from different sources, such as databases or warehouses, and loading it into a centralized location, such as a data warehouse, data lake, or data mart. Typically, this task is performed by a specialized big data team, whose responsibility is to ensure that data is obtained from various sources and stored in different formats, such as Hadoop or MongoDB.\n",
    "- As Data Scientists, it's essential to have knowledge of how to extract data from different sources, such as Hadoop, MongoDB, MySQL, or Oracle, and make it available for analysis. Since data is a critical asset in any project, understanding the process of data ingestion is vital to ensure that the data is organized and stored in a way that facilitates analysis."
   ]
  },
  {
   "cell_type": "code",
   "execution_count": null,
   "id": "fa1680f0-22e7-4e1a-a77c-f8633c880547",
   "metadata": {},
   "outputs": [],
   "source": [
    "import os\n",
    "import sys\n",
    "from dataclasses import dataclass\n",
    "\n",
    "import pandas as pd\n",
    "from sklearn.model_selection import train_test_split\n",
    "\n",
    "from src.components.data_transformation import (DataTransformation,\n",
    "                                                DataTransformationConfig)\n",
    "from src.components.model_trainer import ModelTrainer, ModelTrainerConfig\n",
    "from src.exception import CustomException\n",
    "from src.logger import logging\n",
    "\n",
    "\n",
    "@dataclass\n",
    "class DataIngestionConfig:\n",
    "    '''\n",
    "    Used for defining the configuration for data ingestion.\n",
    "    '''\n",
    "    train_data_path: str = os.path.join('artifacts', 'train.csv')\n",
    "    test_data_path: str = os.path.join('artifacts', 'test.csv') \n",
    "    raw_data_path: str = os.path.join('artifacts', 'data.csv')\n",
    "\n",
    "class DataIngestion:\n",
    "    '''\n",
    "    Used for ingesting data by making use of the configuration defined in DataIngestionConfig.\n",
    "    '''\n",
    "    def __init__(self,ingestion_config: DataIngestionConfig = DataIngestionConfig()):\n",
    "        self.ingestion_config = ingestion_config\n",
    "    \n",
    "    def initiate_data_ingestion(self,raw_data_path: str = None):\n",
    "        try:\n",
    "            # Reading data here.\n",
    "            logging.info(\"Initiating data ingestion\")\n",
    "            if raw_data_path is not None:\n",
    "                self.ingestion_config.raw_data_path = raw_data_path\n",
    "                data = pd.read_csv(self.ingestion_config.raw_data_path)\n",
    "            else:\n",
    "                data = pd.read_csv('./assets/data/NewSPerformance.csv')\n",
    "                        \n",
    "            os.makedirs(os.path.dirname(self.ingestion_config.train_data_path),exist_ok=True)\n",
    "            data.to_csv(self.ingestion_config.train_data_path,index=False,header=True)\n",
    "            logging.info(\"Data ingestion completed\")\n",
    "            \n",
    "            logging.info(\"Train test split initiated\")\n",
    "            train_set, test_set = train_test_split(data,test_size = 0.2, random_state = 18)\n",
    "\n",
    "            train_set.to_csv(self.ingestion_config.train_data_path,index = False, header = True)\n",
    "            test_set.to_csv(self.ingestion_config.test_data_path,index = False, header = True)\n",
    "            logging.info(\"Train test split ingestion completed\")\n",
    "            \n",
    "            return (\n",
    "                self.ingestion_config.train_data_path,\n",
    "                self.ingestion_config.test_data_path\n",
    "            )\n",
    "        except Exception as e:\n",
    "            logging.error(\"Error occured in data ingestion\")\n",
    "            raise CustomException(e,sys)\n",
    "    \n",
    "\n",
    "if __name__ == '__main__':\n",
    "    obj = DataIngestion()\n",
    "    train_data, test_data = obj.initiate_data_ingestion()\n",
    "    \n",
    "    data_transformation = DataTransformation() # We call DataTransformation here, just for the sake of demonstration.\n",
    "    train_arr, test_arr,_ = data_transformation.initiate_data_transformation(train_data,test_data)\n",
    "    \n",
    "    modeltrainer = ModelTrainer()\n",
    "    print(modeltrainer.initiate_model_trainer(train_arr, test_arr))"
   ]
  },
  {
   "cell_type": "markdown",
   "id": "a78500e7-aa6d-4f9b-9ce8-6974ed5c3209",
   "metadata": {
    "jp-MarkdownHeadingCollapsed": true,
    "tags": []
   },
   "source": [
    "##### A3.2.1 Data Transformation Component\n",
    "- Once data ingestion is done, Data transformation component is used to transform the data, to make it useful for analysis and train models on it.\n",
    "    - DataTransformationConfig class in this component stores public path variable to store the preprocessing object in pickle type data, to be later used during building the web app.\n",
    "    - DataTransformation class helps to create an object which invokes DataTransformationConfig Object to get access to preprocessing object path.\n",
    "    - We have a get_data_transformer_object method, that returns a preprocessor object which can preprocess numerical and categorical columns\n",
    "    - By use of the get_data_transformer_object method, in initiate_data_transformation method, to do all the preprocessing on the train and test files, whose path is available from Data Ingestion component. After all the preprocessing we return train and test array consisting of feature and target variables."
   ]
  },
  {
   "cell_type": "markdown",
   "id": "ffdf232b-0301-4d46-9f69-ab390f7b41ba",
   "metadata": {},
   "source": [
    "- A data transformation component is a crucial part of the data science process, which involves transforming raw data into a format that can be used for analysis. Data Scientists play a vital role in this process as they use various techniques such as feature engineering, feature selection, feature scaling, data cleaning, and handling null values to ensure the quality of data used for analysis. By understanding the process of data transformation, Data Scientists can generate valuable insights from raw data and make informed business decisions."
   ]
  },
  {
   "cell_type": "code",
   "execution_count": null,
   "id": "ebfc9153-26c1-42ba-bda3-33dce222be28",
   "metadata": {},
   "outputs": [],
   "source": [
    "import os\n",
    "import sys\n",
    "from dataclasses import dataclass\n",
    "\n",
    "import numpy as np\n",
    "import pandas as pd\n",
    "from sklearn.compose import ColumnTransformer\n",
    "from sklearn.impute import SimpleImputer\n",
    "from sklearn.pipeline import Pipeline\n",
    "from sklearn.preprocessing import OneHotEncoder, StandardScaler\n",
    "\n",
    "from src.exception import CustomException\n",
    "from src.logger import logging\n",
    "from src.utils import save_object\n",
    "\n",
    "# Defining the paths for the data ingestion\n",
    "# di_obj = DataIngestion.DataIngestionConfig() # Not required as we already are doing the Doing the addition of paths in data_ingestion.py itself.\n",
    "# di_obj.train_data_path = \"data/train_data.csv\"\n",
    "# di_obj.test_data_path = \"data/test_data.csv\"\n",
    "\n",
    "@dataclass #This is a decorator which is used to create a dataclass variables.\n",
    "class DataTransformationConfig:\n",
    "    '''\n",
    "    We are creating a dataclass variable which will be used to store the paths for the data transformation transformer object.\n",
    "    '''\n",
    "    preprocessor_obj_file_path = os.path.join(\"artifacts\",\"preprocessor.pkl\")\n",
    "\n",
    "class DataTransformation:\n",
    "    \n",
    "    def __init__(self,transformation_config: DataTransformationConfig = DataTransformationConfig()):\n",
    "        self.data_transformation_config = transformation_config\n",
    "\n",
    "    def get_data_transformer_object(self):\n",
    "        '''\n",
    "        This function is responsible for creating a preprocessing data transformation object.\n",
    "        '''\n",
    "        try:\n",
    "            numerical_columns = [\"writing_score\",\"reading_score\"]\n",
    "            categorical_columns = [\n",
    "                \"gender\",\n",
    "                \"race_ethnicity\",\n",
    "                \"parental_level_of_education\",\n",
    "                \"lunch\",\n",
    "                \"test_preparation_course\"\n",
    "                ]\n",
    "            \n",
    "            num_pipeline = Pipeline(\n",
    "                steps=[\n",
    "                    (\"imputer\",SimpleImputer(strategy = 'median')),\n",
    "                    (\"scaler\",StandardScaler())\n",
    "                ]\n",
    "            )\n",
    "            \n",
    "            cat_pipeline = Pipeline(\n",
    "                steps = [\n",
    "                    (\"imputer\",SimpleImputer(strategy = 'most_frequent')),\n",
    "                    (\"one_hot_encoder\",OneHotEncoder()),\n",
    "                    ('scaler',StandardScaler(with_mean=False))\n",
    "                ]\n",
    "            )\n",
    "            \n",
    "            logging.info(f\"Numerical columns:{numerical_columns}\")\n",
    "            logging.info(f\"Categorical columns:{categorical_columns}\")\n",
    "            \n",
    "            preprocessor = ColumnTransformer(\n",
    "                [\n",
    "                    (\"num_pipeline\",num_pipeline,numerical_columns),\n",
    "                    ('cat_pipeline',cat_pipeline,categorical_columns)\n",
    "                ]\n",
    "            )\n",
    "            \n",
    "            return preprocessor\n",
    "        except Exception as e:\n",
    "            raise CustomException(e,sys)\n",
    "        \n",
    "    def initiate_data_transformation(self,train_path,test_path):\n",
    "        '''\n",
    "        Here we use the preprocessing object to transform the data.\n",
    "        '''\n",
    "            \n",
    "        try:\n",
    "            train_df = pd.read_csv(train_path)\n",
    "            test_df= pd.read_csv(test_path)\n",
    "            \n",
    "            \n",
    "            logging.info(\"Read train and test data completed\") \n",
    "            \n",
    "            logging.info(\"Obtaining preprocessing object and starting processing.\")\n",
    "            preprocessing_obj = self.get_data_transformer_object()\n",
    "            target_column_name = \"math_score\"\n",
    "            numerical_columns = [\"writing_score\",\"reading_score\"]\n",
    "            \n",
    "            input_feature_train_df = train_df.drop(columns = [target_column_name],axis=1)\n",
    "            target_feature_train_df = train_df[target_column_name]\n",
    "            \n",
    "            input_feature_test_df = test_df.drop(columns = [target_column_name],axis=1)\n",
    "            target_feature_test_df = test_df[target_column_name]\n",
    "            \n",
    "            input_feature_train_arr = preprocessing_obj.fit_transform(input_feature_train_df)\n",
    "            input_feature_test_arr = preprocessing_obj.fit_transform(input_feature_test_df)\n",
    "            \n",
    "            train_arr = np.c_[\n",
    "                input_feature_train_arr,np.array(target_feature_train_df)\n",
    "                ]\n",
    "            \n",
    "            test_arr = np.c_[\n",
    "                input_feature_test_arr,np.array(target_feature_test_df)\n",
    "                ]\n",
    "            \n",
    "            logging.info(f\"Saved Preprocessing object at a particular filepath \")\n",
    "            save_object(\n",
    "                file_path = self.data_transformation_config.preprocessor_obj_file_path,\n",
    "                obj = preprocessing_obj\n",
    "            )\n",
    "            return(\n",
    "                train_arr,\n",
    "                test_arr,\n",
    "                self.data_transformation_config.preprocessor_obj_file_path,\n",
    "            )\n",
    "            \n",
    "                \n",
    "        except Exception as e:\n",
    "            raise CustomException(e,sys)"
   ]
  },
  {
   "cell_type": "markdown",
   "id": "7b531214-df10-4e78-8bc1-39a51fccfb42",
   "metadata": {
    "jp-MarkdownHeadingCollapsed": true,
    "tags": []
   },
   "source": [
    "##### A3.1.1 Model Trainer Component\n",
    "- *Model Trainer(MT)*: We can run various models, once above components have turned data to desired format. This component consists of 2 classes as follows.\n",
    "    - ModelTrainerConfig class stores public path variable to store the model object once trained in the pickle format.\n",
    "    - ModelTrainer class, uses initiate_model_trainer method, that access train and test array from Data Transformation component. This method is able to train various models together on the train array and then finally make predictions on the test array, by using the best model from the various models being used on the base of r2_scores. Also in this method we use the ModelTrainerConfig object to store this trained model in local directory and last but not least we also return the r2_score for the best model on test data in this method itself.\n",
    "        "
   ]
  },
  {
   "cell_type": "markdown",
   "id": "3e70cfc8-d20d-4e14-9cb1-a84f7e4782db",
   "metadata": {},
   "source": [
    "- The model trainer component is responsible for training machine learning models on the transformed data. Data Scientists use this component to select an appropriate algorithm, tune hyperparameters, and train the model on the data. The trained model is then evaluated for its performance, and if it meets the desired level of accuracy, it is deployed for production use. The role of Data Scientists in this component is to select and fine-tune the machine learning models that best fit the problem at hand, and ensure that the models meet the business requirements. Ultimately, the model trainer component helps Data Scientists to generate insights and make predictions that can drive business decisions."
   ]
  },
  {
   "cell_type": "code",
   "execution_count": null,
   "id": "238047d7-110c-42f1-9342-be0c212b4d9a",
   "metadata": {
    "tags": []
   },
   "outputs": [],
   "source": [
    "import os\n",
    "import sys\n",
    "import pandas as pd\n",
    "from dataclasses import dataclass\n",
    "\n",
    "from catboost import CatBoostRegressor\n",
    "from sklearn.ensemble import (AdaBoostRegressor, GradientBoostingRegressor,\n",
    "                              RandomForestRegressor)\n",
    "from sklearn.linear_model import LinearRegression, Ridge, Lasso\n",
    "from sklearn.metrics import r2_score\n",
    "from sklearn.neighbors import KNeighborsRegressor\n",
    "from sklearn.tree import DecisionTreeRegressor\n",
    "from xgboost import XGBRegressor\n",
    "from src.exception import CustomException\n",
    "from src.logger import logging\n",
    "from src.utils import evaluate_models, save_object, create_plot\n",
    "\n",
    "@dataclass\n",
    "class ModelTrainerConfig:\n",
    "    # This class is used to store the configs, or any other files generated in this particular python file.\n",
    "    trained_model_file_path = os.path.join(\"artifacts\",\"model.pkl\")\n",
    "\n",
    "class ModelTrainer:\n",
    "    def __init__(self,model_train_config:ModelTrainerConfig = ModelTrainerConfig() ) -> None:\n",
    "        self.model_trainer_config = model_train_config\n",
    "        \n",
    "    \n",
    "    def initiate_model_trainer(self,train_array,test_array):\n",
    "        try:\n",
    "            logging.info(\"Split training and test input data\")\n",
    "            X_train, y_train, X_test, y_test = (\n",
    "                train_array[:,:-1],\n",
    "                train_array[:,-1],\n",
    "                test_array[:,:-1],\n",
    "                test_array[:,-1]\n",
    "            )\n",
    "            \n",
    "            models = {\n",
    "                \"Random Forest\": RandomForestRegressor(),\n",
    "                \"Decision Tree\": DecisionTreeRegressor(),\n",
    "                \"Gradient Boosting\": GradientBoostingRegressor(),\n",
    "                \"Linear Regression\": LinearRegression(),\n",
    "                \"XGBRegressor\": XGBRegressor(),\n",
    "                \"CatBoosting Regressor\": CatBoostRegressor(verbose=False),\n",
    "                \"AdaBoost Regressor\": AdaBoostRegressor(),\n",
    "                \"Ridge\": Ridge(),\n",
    "                \"Lasso\": Lasso()\n",
    "            }\n",
    "            \n",
    "            params ={\n",
    "                \"Ridge\": {\n",
    "                \"alpha\": [0.1, 1, 10],\n",
    "                \"fit_intercept\": [True, False],\n",
    "                \n",
    "                },\n",
    "                    \"Lasso\": {\n",
    "                \"alpha\": [0.1, 1, 10],\n",
    "                \"fit_intercept\": [True, False],\n",
    "                \n",
    "                },\n",
    "                \"Decision Tree\": {\n",
    "                    'criterion':['squared_error', 'friedman_mse', 'absolute_error', 'poisson'],\n",
    "                    'splitter':['best','random'],\n",
    "                    #'max_features':['sqrt','log2'],\n",
    "                    #\"max_depth\": [None, 5, 10],\n",
    "                    #\"min_samples_split\": [2, 5, 10],\n",
    "                    \n",
    "                },\n",
    "                \"Random Forest\":{\n",
    "                    'criterion':['squared_error', 'friedman_mse', 'absolute_error', 'poisson'],\n",
    "                     #'max_features':['sqrt','log2',None],\n",
    "                    'n_estimators': [8,16,32,64,128,256],\n",
    "                    #\"max_depth\": [None, 5, 10],\n",
    "                    #\"min_samples_split\": [2, 5, 10],\n",
    "                },\n",
    "                \"Gradient Boosting\":{\n",
    "                    #'loss':['squared_error', 'huber', 'absolute_error', 'quantile'],\n",
    "                    'learning_rate':[.1,.01,.05,.001],\n",
    "                    'subsample':[0.6,0.7,0.75,0.8,0.85,0.9],\n",
    "                    'criterion':['squared_error', 'friedman_mse'],\n",
    "                    #'max_features':['auto','sqrt','log2'],\n",
    "                    'n_estimators': [8,16,32,64,128,256],\n",
    "                    #\"max_depth\": [None, 5, 10],\n",
    "                    #\"min_samples_split\": [2, 5, 10],\n",
    "                },\n",
    "                \"Linear Regression\":{ \n",
    "                    \"fit_intercept\": [True, False],\n",
    "                    #\"normalize\": [True, False],\n",
    "                    },\n",
    "                \"XGBRegressor\":{\n",
    "                    'learning_rate':[.1,.01,.05,.001],\n",
    "                    'n_estimators': [8,16,32,64,128,256],\n",
    "                    #\"max_depth\": [None, 5, 10],\n",
    "                    #\"min_child_weight\": [1, 3, 5],\n",
    "                },\n",
    "                \"CatBoosting Regressor\":{\n",
    "                    'depth': [6,8,10],\n",
    "                    'learning_rate': [0.01, 0.05, 0.1],\n",
    "                    'iterations': [30, 50, 100],\n",
    "                    #\"n_estimators\": [50,100,250],\n",
    "                    #\"max_depth\": [None, 5, 10],\n",
    "                    #\"reg_lambda\": [0.1, 1, 10],\n",
    "                },\n",
    "                \"AdaBoost Regressor\":{\n",
    "                    'learning_rate':[.1,.01,0.5,.001],\n",
    "                    #'loss':['linear','square','exponential'],\n",
    "                    'n_estimators': [8,16,32,64,128,256],\n",
    "                }\n",
    "                                \n",
    "                }\n",
    "            \n",
    "            model_report: dict = evaluate_models(\n",
    "                X_train = X_train,\n",
    "                y_train =  y_train, \n",
    "                X_test  = X_test,\n",
    "                y_test = y_test,\n",
    "                models = models,\n",
    "                param = params\n",
    "                )\n",
    "            print(model_report)\n",
    "            \n",
    "            model_report_df = pd.DataFrame(model_report, index=[0])\n",
    "            model_report_df.to_csv(\"./assets/files/model_report.csv\",index=False)\n",
    "            \n",
    "            # To get best model score from dict\n",
    "            best_model_score = max(sorted(model_report.values()))\n",
    "            \n",
    "            # To get best model name from dict\n",
    "            best_model_name = list(model_report.keys())[\n",
    "                list(model_report.values()).index(best_model_score)\n",
    "                ]\n",
    "            best_model = models[best_model_name]\n",
    "            \n",
    "            if best_model_score<0.6:\n",
    "                raise CustomException(\"No best model found\")\n",
    "            logging.info(f\"Best found model on both training and testing dataset\")\n",
    "            \n",
    "            save_object(\n",
    "                file_path = self.model_trainer_config.trained_model_file_path,\n",
    "                obj = best_model\n",
    "            )\n",
    "            \n",
    "\n",
    "    \n",
    "            predicted = best_model.predict(X_test)\n",
    "            r2_square = r2_score(y_test,predicted)\n",
    "            create_plot(y_test,predicted,type = 'scatter',model_name = best_model_name)\n",
    "            create_plot(y_test,predicted, type = 'reg',model_name = best_model_name)\n",
    "            \n",
    "            return r2_square\n",
    "            \n",
    "\n",
    "        except Exception as e:\n",
    "            raise CustomException(e,sys)"
   ]
  },
  {
   "cell_type": "markdown",
   "id": "abeb2d8f-102c-4bcb-9d3c-6d0cbee4cd52",
   "metadata": {
    "jp-MarkdownHeadingCollapsed": true,
    "tags": []
   },
   "source": [
    "##### Action A3.3: Creation of train and predict pipelines "
   ]
  },
  {
   "cell_type": "markdown",
   "id": "1f7e398e-c8d2-4ddb-a9e4-199051dc155d",
   "metadata": {
    "jp-MarkdownHeadingCollapsed": true,
    "tags": []
   },
   "source": [
    "##### A3.3.1 Train Pipeline\n",
    "- A pipeline that interacts with the DI, DT, MT components to process the raw data available in the frontend.\n",
    "    - This pipeline has a TrainPipeline class, which takes in the raw data and uses the train method which interacts with the DI, DT and MT components to simply return the best models r2 score in the end.\n",
    "    \n",
    "###### Currently this pipeline is not in production env, simply used locally to train the model on local data\n",
    "- To run this pipeline, and train models, simply run the file with appropriate raw data \n",
    "```python\n",
    "python3 ./src/pipeline/train_pipeline.py\n",
    "```"
   ]
  },
  {
   "cell_type": "code",
   "execution_count": null,
   "id": "da6a669a-d192-4de4-b86c-3f8364c63b23",
   "metadata": {
    "tags": []
   },
   "outputs": [],
   "source": [
    "# Will use the components from src, in the train pipeline to make the model train on the database.\n",
    "import sys\n",
    "import pandas as pd\n",
    "from src.logger import logging\n",
    "from src.exception import CustomException\n",
    "from src.components import data_ingestion as di\n",
    "from src.components import data_transformation as dt\n",
    "from src.components import model_trainer as mt\n",
    "\n",
    "\n",
    "class TrainPipeline:\n",
    "    def __init__(self, raw_data_path=None):\n",
    "        self.raw_data_path = raw_data_path\n",
    "\n",
    "    def train(self):\n",
    "        try:\n",
    "            logging.info(\"Initiating data ingestion\")\n",
    "            di_obj = di.DataIngestion()\n",
    "            train_data, test_data = di_obj.initiate_data_ingestion(raw_data_path=self.raw_data_path)\n",
    "            logging.info(\"Data ingestion completed\")\n",
    "            \n",
    "            logging.info(\"Initiating data transformation\")\n",
    "            dt_obj = dt.DataTransformation() # We call DataTransformation here, just for the sake of demonstration.\n",
    "            train_arr, test_arr,_ = dt_obj.initiate_data_transformation(train_data,test_data)\n",
    "            logging.info(\"Data transformation completed and saved preprocessor object\")\n",
    "            \n",
    "            \n",
    "            logging.info(\"Training the model\")\n",
    "            mt_obj = mt.ModelTrainer()\n",
    "            print(f\"Best Models r2_score: {mt_obj.initiate_model_trainer(train_arr, test_arr)}\")\n",
    "            logging.info(\"Model training completed and saved the best model\")\n",
    "    \n",
    "        except Exception as e:\n",
    "            raise CustomException(e, sys)\n",
    "\n",
    "if __name__ == \"__main__\":\n",
    "    train_pipeline_obj = TrainPipeline(\"data/NewSPerformance.csv\")\n",
    "    train_pipeline_obj.train()"
   ]
  },
  {
   "cell_type": "markdown",
   "id": "0beb8261-35f5-40ea-898e-2e2a8730b5ee",
   "metadata": {
    "jp-MarkdownHeadingCollapsed": true,
    "tags": []
   },
   "source": [
    "##### A3.3.2 Predict Pipeline Component\n",
    "- *Predict Pipeline*: A pipeline that takes the user inputs and makes prediction on the given data by using the trained model and other objects like preprocessor obj, created via the train pipeline.\n",
    "    - This pipeline consists of CustomData class which takes the user inputs submitted to our application and returns a data frame out of the inputs.\n",
    "    - PredictPipeline class, takes the CustomData class returned df object as features, scales them via the DT component generated transformer and finally, makes predictions by using the best model, from the MT component and showcases them back to the user."
   ]
  },
  {
   "cell_type": "code",
   "execution_count": null,
   "id": "40d1c888-f331-452c-abe6-63726bbb5114",
   "metadata": {
    "tags": []
   },
   "outputs": [],
   "source": [
    "# A prediction pipeline file.\n",
    "import sys\n",
    "import pandas as pd\n",
    "from src.exception import CustomException\n",
    "from src.utils import load_object\n",
    "from src.logger import logging\n",
    "\n",
    "\n",
    "class PredictPipeline:\n",
    "    def __init__(self):\n",
    "        pass\n",
    "    \n",
    "    def predict(self,features):\n",
    "        try:\n",
    "            logging.info(\"Predicting the data\")\n",
    "            model_path  = \"artifacts/model.pkl\"\n",
    "            preprocessor_path = \"artifacts/preprocessor.pkl\"\n",
    "            \n",
    "            model = load_object(file_path = model_path)\n",
    "            preprocessor = load_object(file_path = preprocessor_path)\n",
    "        \n",
    "            data_scaled = preprocessor.transform(features)\n",
    "            predictions = model.predict(data_scaled)\n",
    "            logging.info(\"Predictions completed\")\n",
    "            return pd.DataFrame(predictions,columns=[\"predictions\"])\n",
    "        \n",
    "        except Exception as e:\n",
    "            raise CustomException(e,sys)    \n",
    "\n",
    "\n",
    "class CustomData:\n",
    "    def __init__(  self,\n",
    "        gender: str,\n",
    "        race_ethnicity: str,\n",
    "        parental_level_of_education,\n",
    "        lunch: str,\n",
    "        test_preparation_course: str,\n",
    "        reading_score: int,\n",
    "        writing_score: int):\n",
    "\n",
    "        self.gender = gender\n",
    "\n",
    "        self.race_ethnicity = race_ethnicity\n",
    "\n",
    "        self.parental_level_of_education = parental_level_of_education\n",
    "\n",
    "        self.lunch = lunch\n",
    "\n",
    "        self.test_preparation_course = test_preparation_course\n",
    "\n",
    "        self.reading_score = reading_score\n",
    "\n",
    "        self.writing_score = writing_score\n",
    "\n",
    "    def get_data_as_data_frame(self):\n",
    "        try:\n",
    "            logging.info(\"Creating a data frame from the custom data\")\n",
    "            custom_data_input_dict = {\n",
    "                \"gender\": [self.gender],\n",
    "                \"race_ethnicity\": [self.race_ethnicity],\n",
    "                \"parental_level_of_education\": [self.parental_level_of_education],\n",
    "                \"lunch\": [self.lunch],\n",
    "                \"test_preparation_course\": [self.test_preparation_course],\n",
    "                \"reading_score\": [self.reading_score],\n",
    "                \"writing_score\": [self.writing_score],\n",
    "            }\n",
    "            logging.info(\"Data frame created\")\n",
    "            return pd.DataFrame(custom_data_input_dict)\n",
    "\n",
    "        except Exception as e:\n",
    "            raise CustomException(e, sys)"
   ]
  },
  {
   "cell_type": "markdown",
   "id": "fbb8c36b-57d1-448f-8877-f57a70c5cc5a",
   "metadata": {},
   "source": [
    "- The train and predict pipelines are a critical component of the machine learning process. The train pipeline is responsible for training the machine learning model on the training data. This process involves selecting an appropriate algorithm, fine-tuning hyperparameters, and fitting the model to the training data.\n",
    "\n",
    "- Once the model is trained, it is deployed to the predict pipeline, which is responsible for making predictions on new data. The predict pipeline involves processing the data, applying any necessary transformations, and using the trained model to generate predictions.\n",
    "\n",
    "- Data Scientists play a crucial role in both the train and predict pipelines. They must ensure that the training data is representative of the problem at hand, and that the model is trained and optimized to meet the desired level of accuracy. In addition, they must ensure that the predict pipeline is efficient and reliable, and that the model generates accurate predictions in real-time.\n",
    "\n",
    "- Ultimately, the train and predict pipelines are essential to the machine learning process, as they allow Data Scientists to build and deploy models that can generate valuable insights and drive business decisions."
   ]
  },
  {
   "cell_type": "markdown",
   "id": "9e544526-ec20-4651-916d-0d23d0265579",
   "metadata": {
    "tags": []
   },
   "source": [
    "#### Action A4: Model Deployment"
   ]
  },
  {
   "cell_type": "markdown",
   "id": "a2bcc9ff-f359-463d-9bb0-dfa35dfa1452",
   "metadata": {},
   "source": [
    "- Deployment of Model into a production environment: \n",
    "    - Deployment of model via Flask API locally\n",
    "    - Deployment of model via Codepipeline, and Beanstalk.\n",
    "    - Deployment of model via Docker, ECR, Github-Action-Runners, and ECS."
   ]
  },
  {
   "cell_type": "markdown",
   "id": "7c2b2898-383f-4804-bef4-80f9ceae8984",
   "metadata": {},
   "source": [
    "##### Action A4.1: Deployment of Model via Flask API locally"
   ]
  },
  {
   "cell_type": "markdown",
   "id": "dfce4aaf",
   "metadata": {},
   "source": [
    "- Following is the code of the flask application that will use the predict pipeline and flask api.\n",
    "    - Flask api is used to fetch the data from the frontend to backend and vice-versa.\n",
    "    - This prediction pipeline makes predictions in the backend and finally the results are shared with the user by use of the Flask api.\n",
    "    - This local app can be directly run by running python application.py in the terminal."
   ]
  },
  {
   "cell_type": "code",
   "execution_count": null,
   "id": "ac12c1be",
   "metadata": {},
   "outputs": [],
   "source": [
    "from flask import Flask, request, render_template\n",
    "import numpy as np\n",
    "import pandas as pd\n",
    "from sklearn.preprocessing import StandardScaler\n",
    "from src.pipeline.predict_pipeline import CustomData, PredictPipeline\n",
    "from src.exception import CustomException\n",
    "from src.logger import logging\n",
    "import os\n",
    "\n",
    "application = Flask(__name__)\n",
    "\n",
    "app = application\n",
    "\n",
    "## Route for a home page\n",
    "@app.route('/')\n",
    "def index():\n",
    "    return render_template('index.html')\n",
    "\n",
    "\n",
    "@app.route('/predictdata', methods=['GET','POST'])\n",
    "def predict_datapoint():\n",
    "    if request.method == 'GET':\n",
    "        return render_template('home.html')\n",
    "    else:\n",
    "        try:\n",
    "            data = CustomData(\n",
    "                gender = request.form.get('gender'),\n",
    "                race_ethnicity=request.form.get('ethnicity'),\n",
    "                parental_level_of_education=request.form.get('parental_level_of_education'),\n",
    "                lunch = request.form.get('lunch'),\n",
    "                test_preparation_course=request.form.get('test_preparation_course'),\n",
    "                reading_score=request.form.get('reading_score'),\n",
    "                writing_score=request.form.get('writing_score'),\n",
    "                \n",
    "            )\n",
    "            pred_df = data.get_data_as_data_frame()\n",
    "            \n",
    "            print(pred_df)\n",
    "            \n",
    "            predict_pipeline = PredictPipeline()\n",
    "            results = predict_pipeline.predict(pred_df)\n",
    "            return render_template('home.html',results = results)\n",
    "        \n",
    "        except Exception as e:\n",
    "            logging.error(f\"Error occured while predicting the data:{e}\")\n",
    "            return render_template('home.html',results = e)\n",
    "\n",
    "if __name__=='__main__':\n",
    "    port = int(os.environ.get(\"PORT\", 8080))\n",
    "    app.run(host='0.0.0.0', port=port) # This is the port assigned by the beanstalk or AWS instance, if not provided by them any... else we use the 8080 port in the host to run our application. Rest the docker run "
   ]
  },
  {
   "cell_type": "markdown",
   "id": "ae74b669",
   "metadata": {},
   "source": [
    "[Local Deployment Video](https://youtu.be/d6Jw5hGb65Y?list=PLZoTAELRMXVPS-dOaVbAux22vzqdgoGhG&t=304) by Krish Naik Sir"
   ]
  },
  {
   "cell_type": "markdown",
   "id": "2bad08f8-b4ed-4a3d-842b-96aef8285a67",
   "metadata": {
    "tags": []
   },
   "source": [
    "##### Action A4.2: Deployment of Model via Codepipeline, and Beanstalk."
   ]
  },
  {
   "cell_type": "markdown",
   "id": "e78c26fa",
   "metadata": {},
   "source": [
    "##### A4.2.1: Setting up Beanstalk"
   ]
  },
  {
   "cell_type": "markdown",
   "id": "a3e5ff0c",
   "metadata": {},
   "source": [
    "- Elastick Beanstalk is a service that allows you to deploy your application on AWS on instances like linux machine based on EC2.\n",
    "    - To set up Beanstalk, you need to have an AWS account. If you don't have one, you can create one for free.\n",
    "    - Open the AWS console and search for Elastic Beanstalk. Click on it and then click on create a new application.\n",
    "    - Follow the steps one by one, but remember to create an IAM role for the application with the permissions of AWSElasticBeanstalkFullAccess, AWSElasticBeanstalkWebTier, AWSElasticBeanstalkEnhancedHealth and AdministratorAccess-AWSElasticBeanstalk.\n",
    "    - Also in the steps, one will require ec2 key pair. You can create one on the AWS console, while creating the application.\n",
    "    - Rest setup the EC2 instance profile via the IAM role itself, in the steps, and then keeping default options in the steps create the application.\n",
    "    - Locally we also need a config file, which is called .ebextensions. This file contains the configuration for the Beanstalk instance.\n",
    "    - The code for the config file is given below\n",
    "\n",
    "- After all the setup, get onto below steps, but before starting the code-pipeline, make sure that the beanstalk environment is running.\n",
    "    - Also to view our application make sure, you setup ports in Beanstalk, by following steps given below.\n",
    "    - To do that  navigate to the Beanstalk console, find your environment, and click on the \"Configuration\" tab.\n",
    "    - Scroll down to the \"Software\" section and click on \"Edit\".\n",
    "    - In the \"Environment Properties\" section, add a new property called PORT with a value of 5000.\n",
    "    - Save the changes and wait for the environment to restart before you run the code-pipeline.\n",
    "    "
   ]
  },
  {
   "cell_type": "markdown",
   "id": "73f4a71f-8dd3-49f2-aa09-038bc04d7bd7",
   "metadata": {},
   "source": [
    "- .ebsextensions file\n",
    "```yaml\n",
    "option_settings:\n",
    "  \"aws:elasticbeanstalk:container:python\":\n",
    "    WSGIPath: application:application\n",
    "```"
   ]
  },
  {
   "cell_type": "markdown",
   "id": "95f43a7b-533d-4052-b658-a8ead5d4f598",
   "metadata": {},
   "source": [
    "##### A4.2.2: Setting up the Github Repo"
   ]
  },
  {
   "cell_type": "markdown",
   "id": "9c3ce029",
   "metadata": {},
   "source": [
    "- After setting up Beanstalk, simply push the github repo that we created at the beginning of application.\n",
    "    - This contains all the code of our application, now to deploy the code on the linux instance, there has to be a pipeline, connecting the github repo and the beanstalk server. Such a pipeline is called as a **code pipeline** in *AWS* . Whenever any changes happens in our code... the code pipelines makes real-time changes to the deployed application via help of a button.\n",
    "    - This pipeline in general is called as a continuous delivery pipeline.\n",
    "        "
   ]
  },
  {
   "cell_type": "markdown",
   "id": "3dfeb091",
   "metadata": {},
   "source": [
    "##### A4.2.3: Setting up the Code Pipeline \n"
   ]
  },
  {
   "cell_type": "markdown",
   "id": "7c68cdae",
   "metadata": {},
   "source": [
    "- To set up the code pipeline, we need to have a code pipeline service in AWS.\n",
    "    - We will use AWS code pipeline to create our code pipeline connecting our git repo to the elastic beanstalk.\n",
    "    - Follow the steps with default options, while setting up the pipeline, make sure, we have connected to github repo and the branch on which the code is present, by github version 1 connect for simplicity.\n",
    "    - Once the pipeline is connected, we need to build it and deploy it. \n",
    "        - We skip the build part, but we do deploy our application in elastic beanstalk, while deploying we specify the name of application and the env as well.\n",
    "        - Now ensuring that the beanstalk env is already running on port 5000, start the code pipeline, which will connect to the github repo and deploy the application on the beanstalk env.\n",
    "        - Once the pipeline is running, we can view the application by clicking on the link given in domain column in elastic beanstalk application console.\n",
    "        - The link will be similar to http://studperformance-env.eba-wmtvi3wb.eu-central-1.elasticbeanstalk.com/\n",
    "    "
   ]
  },
  {
   "cell_type": "markdown",
   "id": "e39aa252",
   "metadata": {},
   "source": [
    "[Beanstalk Deployment Video](https://youtu.be/gbJn2Ls2QsI?list=PLZoTAELRMXVPS-dOaVbAux22vzqdgoGhG&t=780) by Krish Naik Sir"
   ]
  },
  {
   "cell_type": "markdown",
   "id": "acfe605a",
   "metadata": {},
   "source": [
    "#### A4.3 Deployment of model via Docker, Github-Action-Runners, AWS ECR, EC2 instances."
   ]
  },
  {
   "cell_type": "markdown",
   "id": "20f0d920",
   "metadata": {},
   "source": [
    "##### A4.3.1 Setting up Docker Containers\n"
   ]
  },
  {
   "cell_type": "markdown",
   "id": "d836e4c6",
   "metadata": {},
   "source": [
    "- Assuming that reader knows the basics about docker images, containers following the below steps ensure that our application is ready for deployment via AWS.\n",
    "- Setup Docker container:\n",
    "    - Build an image using Dockerfile, contents of docker file are given below, also add a .dockerignore file to ignore adding venv/ environement to the image.\n",
    "    - Run the image in a container using the command docker run -p 8080:8080 -v /path/to/ml_application:/app my-app\n",
    "        - The -p flag is used to expose a port on the host machine, so that you can access it from outside the container. Here, we are exposing port 8080 on the host machine, which is mapped to port 8080 on the container.\n",
    "        - The -v flag is used to mount a volume, which allows the container to access a directory on the host machine. The first path is the path to the directory on the host machine, and the second path is the path to the directory in the container.\n",
    "        - The last argument my-app is the name of the image that you want to run.\n",
    "        - The container is listening on port 8080, so the application.py file should have the port number set to 8080.\n",
    "        - Access the application by visiting http://localhost:8080 in your web browser.\n",
    "        - If you want to run the container in the background, you can use the -d flag."
   ]
  },
  {
   "cell_type": "markdown",
   "id": "22a3dda0",
   "metadata": {},
   "source": [
    "#### A4.3.2 Setting AWS IAM role, ECR repo, EC2 instance"
   ]
  },
  {
   "cell_type": "markdown",
   "id": "187963e7",
   "metadata": {},
   "source": [
    "- Setup of AWS IAM role\n",
    "    - Create a new user and allow the permissions of AmazonEC2ContainerRegistryFullAccess & AmazonEC2FullAccess permissions to the user.\n",
    "    - Setup access keys for the user and also download it in csv format.\n",
    "    \n",
    "- Setup of ECR repo\n",
    "    - Go to Elastic Container Registry and create a new repository named student performance and copy the URL for the repository to the aws yml file.\n",
    "\n",
    "- Setup of EC2 instance\n",
    "    - Use the default settings, with Ubuntu instance and use all HTTP connections on this instance in one of the steps, while seeting up the instance.\n",
    "    - Once the instance is up and running, connect to the instance.\n",
    "    - On the instance run the following commands to install docker.\n",
    "        - sudo apt-get update -y\n",
    "        - sudo apt-get upgrade\n",
    "        - curl -fsSL https://get.docker.com -o get-docker.sh\n",
    "        - sudo sh get-docker.sh\n",
    "        - sudo usermod -aG docker ubuntu\n",
    "        - newgrp docker\n",
    "        \n",
    "    - Single Command: \n",
    "    ``` bash\n",
    "    sudo apt-get update -y && sudo apt-get upgrade -y && curl -fsSL https://get.docker.com -o get-docker.sh && sudo sh get-docker.sh && sudo usermod -aG docker ubuntu && newgrp docker \n",
    "    ```\n",
    "    - Also in the instance configuration under security groups in network, add a new inbound rule, which will be a custom TCP rule, which will help us access our application on 8080 port."
   ]
  },
  {
   "cell_type": "markdown",
   "id": "d68cf749",
   "metadata": {},
   "source": [
    "#### A4.3.3 Setup Github Workflow, Github Runner Actions and Github secrets to be used by the workflow."
   ]
  },
  {
   "cell_type": "markdown",
   "id": "9d5cbd5e",
   "metadata": {},
   "source": [
    "- Github workflow: \n",
    "    - It refers to the idea that our code which is in github, once we update it, from github, a docker image should be created in the ecr repository and then this docker image will get installed in the ec2 instance that we have created and from this installation our application will run on the ec2 instance.\n",
    "    - This same idea is represented in the aws.yaml file in our github workflow folder.\n",
    "\n",
    "- Setting up runner in github to run the workflow:\n",
    "    - This runner will trigger the workflow whenever there is a change in the code.\n",
    "    - Go to the instance and run all the commands to setup the runner in the ec2 instance as shown from the settings of github repo, when you create an self-hosted runner from the github-actions tab in settings for ml app repo.\n",
    "    - Keep default options as it is, while doing the setup, just when the name of runner is asked, I gave it as `self-hosted`\n",
    "    - **Remember that after certain time, if we are not using the runner, it will go offline, to make it back online, and run the command `./run.sh` from the actions-runner folder in the ec2 instance.**\n",
    "\n",
    "- After this add the following github secrets in actions tab in settings of the repo. These will be used in our workflow itself.\n",
    "    - AWS_ACCESS_KEY_ID: Created when we created the user in IAM\n",
    "    - AWS_SECRET_ACCESS_KEY: Created when we created the user in IAM\n",
    "    - AWS_DEFAULT_REGION: See it in the ec2 instance details\n",
    "    - AWS_ECR_LOGIN_URI: See it in the ecr repository details  #kind of format. but it doesn't include the repository name.\n",
    "    - AWS_ECR_REPOSITORY: studentperformance or whatever name you have given to the repository"
   ]
  },
  {
   "cell_type": "markdown",
   "id": "9d7c781c",
   "metadata": {},
   "source": [
    "#### A4.3.4 Running the application\n",
    "- Now simply go to the ec2 instance url, and paste :8080 in front of it, to see the application running. Play with it and have fun predicting marks of students.\n"
   ]
  },
  {
   "cell_type": "markdown",
   "id": "a3244ba1",
   "metadata": {},
   "source": [
    "[AWS CI/CD Pipeline Deployment Video](https://youtu.be/Xniji2m85LY?list=PLZoTAELRMXVPS-dOaVbAux22vzqdgoGhG&t=890) by Krish Naik Sir."
   ]
  },
  {
   "cell_type": "markdown",
   "id": "1356198a-55e1-4a60-96a0-0faac3b7645d",
   "metadata": {},
   "source": [
    "## Gradio Webapp"
   ]
  },
  {
   "cell_type": "code",
   "execution_count": 2,
   "id": "df721e24-5971-4a16-bb0c-7f0779a6db49",
   "metadata": {
    "tags": []
   },
   "outputs": [
    {
     "data": {
      "text/html": [
       "<script type=\"module\" src=\"https://gradio.s3-us-west-2.amazonaws.com/3.24.1/gradio.js\"\n",
       "></script><gradio-app src=\"https://yuvidhepe-studentperformance.hf.space\"></gradio-app>\n"
      ],
      "text/plain": [
       "<IPython.core.display.HTML object>"
      ]
     },
     "metadata": {},
     "output_type": "display_data"
    }
   ],
   "source": [
    "%%html\n",
    "<script type=\"module\" src=\"https://gradio.s3-us-west-2.amazonaws.com/3.24.1/gradio.js\"\n",
    "></script><gradio-app src=\"https://yuvidhepe-studentperformance.hf.space\"></gradio-app>"
   ]
  },
  {
   "cell_type": "markdown",
   "id": "ed15a3bb",
   "metadata": {},
   "source": [
    "## Thanks to the support of Krish Naik sir, in this project journey\n",
    "- The whole project creation outline and execution is of Krish Naik sir, whose efforts in making Data Science simple have been enormous through such projects. You can give him a big shoutout on [linkedin](https://www.linkedin.com/in/naikkrish/), learn from him on [youtube](https://www.youtube.com/channel/UCNU_lfiiWBdtULKOw6X0Dig)."
   ]
  }
 ],
 "metadata": {
  "kernelspec": {
   "display_name": "Python 3 (ipykernel)",
   "language": "python",
   "name": "python3"
  },
  "language_info": {
   "codemirror_mode": {
    "name": "ipython",
    "version": 3
   },
   "file_extension": ".py",
   "mimetype": "text/x-python",
   "name": "python",
   "nbconvert_exporter": "python",
   "pygments_lexer": "ipython3",
   "version": "3.11.3"
  }
 },
 "nbformat": 4,
 "nbformat_minor": 5
}
