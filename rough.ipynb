{
 "cells": [
  {
   "cell_type": "code",
   "execution_count": 12,
   "metadata": {},
   "outputs": [
    {
     "name": "stdout",
     "output_type": "stream",
     "text": [
      "['pandas', 'numpy', 'seaborn']\n",
      "['pandas', 'numpy', 'seaborn']\n"
     ]
    }
   ],
   "source": [
    "from setuptools import find_packages,setup\n",
    "from typing import List\n",
    "\n",
    "\n",
    "print(get_requirements(\"./requirements.txt\"))"
   ]
  },
  {
   "cell_type": "code",
   "execution_count": null,
   "metadata": {},
   "outputs": [],
   "source": []
  }
 ],
 "metadata": {
  "kernelspec": {
   "display_name": "Python 3",
   "language": "python",
   "name": "python3"
  },
  "language_info": {
   "codemirror_mode": {
    "name": "ipython",
    "version": 3
   },
   "file_extension": ".py",
   "mimetype": "text/x-python",
   "name": "python",
   "nbconvert_exporter": "python",
   "pygments_lexer": "ipython3",
   "version": "3.8.0"
  },
  "orig_nbformat": 4,
  "vscode": {
   "interpreter": {
    "hash": "32bbdfffad27944e0bf6631f61b9cb3afd64566e61a847afa7064faa5bec4625"
   }
  }
 },
 "nbformat": 4,
 "nbformat_minor": 2
}
